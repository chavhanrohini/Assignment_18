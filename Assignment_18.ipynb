{
 "cells": [
  {
   "cell_type": "markdown",
   "id": "8fd4a202",
   "metadata": {},
   "source": [
    "## 1. Create a `zoo.py` file first. Define the `hours()` function, which prints the string 'Open 9-5 daily'. Then, use the interactive interpreter to import the `zoo` module and call its `hours()` function.\n",
    "\n",
    "   Answer: \n",
    "   First, create a `zoo.py` file with the following content:\n"
   ]
  },
  {
   "cell_type": "code",
   "execution_count": 1,
   "id": "7e187e80",
   "metadata": {},
   "outputs": [],
   "source": [
    "def hours():\n",
    "    print('Open 9-5 daily')\n"
   ]
  },
  {
   "cell_type": "code",
   "execution_count": null,
   "id": "21b8d50f",
   "metadata": {},
   "outputs": [],
   "source": [
    "#Then, in the interactive interpreter, you can do the following:\n",
    "import zoo\n",
    "zoo.hours()\n"
   ]
  },
  {
   "cell_type": "markdown",
   "id": "badeb5c6",
   "metadata": {},
   "source": [
    "## 2. In the interactive interpreter, import the `zoo` module as `menagerie` and call its `hours()` function.\n",
    "\n",
    "   Answer:\n",
    "   In the interactive interpreter:\n"
   ]
  },
  {
   "cell_type": "code",
   "execution_count": null,
   "id": "ddc10cdb",
   "metadata": {},
   "outputs": [],
   "source": [
    "import zoo as menagerie\n",
    "menagerie.hours()\n"
   ]
  },
  {
   "cell_type": "markdown",
   "id": "8bb026be",
   "metadata": {},
   "source": [
    "## 3. Using the interpreter, explicitly import and call the `hours()` function from `zoo`.\n",
    "\n",
    "   Answer:\n",
    "   In the interactive interpreter:\n"
   ]
  },
  {
   "cell_type": "code",
   "execution_count": null,
   "id": "cc5c37bf",
   "metadata": {},
   "outputs": [],
   "source": [
    "from zoo import hours\n",
    "hours()\n"
   ]
  },
  {
   "cell_type": "markdown",
   "id": "db9f8e1b",
   "metadata": {},
   "source": [
    "## 4. Import the `hours()` function as `info` and call it.\n",
    "\n",
    "   Answer:\n"
   ]
  },
  {
   "cell_type": "code",
   "execution_count": null,
   "id": "5aa464a6",
   "metadata": {},
   "outputs": [],
   "source": [
    "from zoo import hours as info\n",
    "info()\n"
   ]
  },
  {
   "cell_type": "markdown",
   "id": "3790399f",
   "metadata": {},
   "source": [
    "## 5. Create a plain dictionary with the key-value pairs 'a': 1, 'b': 2, and 'c': 3, and print it out.\n",
    "\n",
    "   Answer:\n"
   ]
  },
  {
   "cell_type": "code",
   "execution_count": 3,
   "id": "69bcc800",
   "metadata": {},
   "outputs": [
    {
     "name": "stdout",
     "output_type": "stream",
     "text": [
      "{'a': 1, 'b': 2, 'c': 3}\n"
     ]
    }
   ],
   "source": [
    "plain_dict = {'a': 1, 'b': 2, 'c': 3}\n",
    "print(plain_dict)\n"
   ]
  },
  {
   "cell_type": "markdown",
   "id": "1041023e",
   "metadata": {},
   "source": [
    "## 6. Make an `OrderedDict` called `fancy` from the same pairs listed in 5 and print it. Did it print in the same order as plain?\n",
    "\n",
    "   Answer:\n"
   ]
  },
  {
   "cell_type": "code",
   "execution_count": 6,
   "id": "fa23a9e9",
   "metadata": {},
   "outputs": [
    {
     "name": "stdout",
     "output_type": "stream",
     "text": [
      "OrderedDict([('a', 1), ('b', 2), ('c', 3)])\n"
     ]
    }
   ],
   "source": [
    "from collections import OrderedDict\n",
    "\n",
    "fancy = OrderedDict([('a', 1), ('b', 2), ('c', 3)])\n",
    "print(fancy)\n",
    "#   The `OrderedDict` will print in the same order as it was defined, \n",
    "#so it will print in the order 'a', 'b', 'c'."
   ]
  },
  {
   "cell_type": "markdown",
   "id": "cb1700eb",
   "metadata": {},
   "source": [
    "## 7. Make a `defaultdict` called `dict_of_lists` and pass it the argument `list`. Make the list `dict_of_lists['a']` and append the value 'something for a' to it in one assignment. Print `dict_of_lists['a']`.\n",
    "\n",
    "   Answer:\n"
   ]
  },
  {
   "cell_type": "code",
   "execution_count": 7,
   "id": "0716055f",
   "metadata": {},
   "outputs": [
    {
     "name": "stdout",
     "output_type": "stream",
     "text": [
      "['something for a']\n"
     ]
    }
   ],
   "source": [
    "from collections import defaultdict\n",
    "\n",
    "dict_of_lists = defaultdict(list)\n",
    "dict_of_lists['a'].append('something for a')\n",
    "print(dict_of_lists['a'])\n"
   ]
  },
  {
   "cell_type": "code",
   "execution_count": null,
   "id": "610e3ef4",
   "metadata": {},
   "outputs": [],
   "source": []
  }
 ],
 "metadata": {
  "kernelspec": {
   "display_name": "Python 3 (ipykernel)",
   "language": "python",
   "name": "python3"
  },
  "language_info": {
   "codemirror_mode": {
    "name": "ipython",
    "version": 3
   },
   "file_extension": ".py",
   "mimetype": "text/x-python",
   "name": "python",
   "nbconvert_exporter": "python",
   "pygments_lexer": "ipython3",
   "version": "3.9.12"
  }
 },
 "nbformat": 4,
 "nbformat_minor": 5
}
